{
 "cells": [
  {
   "cell_type": "code",
   "execution_count": 5,
   "metadata": {},
   "outputs": [
    {
     "name": "stdout",
     "output_type": "stream",
     "text": [
      "===== DỰ BÁO THỜI TIẾT ===== \n",
      "\n",
      "Nhập thành phố / địa điểm bạn muốn kiểm tra thời tiết : hà nội \n",
      "\n",
      "Mon, 09 Apr 2018 04:10 PM ICT (Hà Nội Vietnam  Hanoi) Partly Cloudy ,Nhiệt Độ Thấp Nhất 15*C ,Nhiệt Độ Cao Nhất 26*C\n",
      "\n",
      "      Datetime  Day              Description Max Min\n",
      "0  10 Apr 2018  Tue            Partly Cloudy  27  20\n",
      "1  11 Apr 2018  Wed            Partly Cloudy  29  23\n",
      "2  12 Apr 2018  Thu            Partly Cloudy  32  24\n",
      "3  13 Apr 2018  Fri             Mostly Sunny  34  25\n",
      "4  14 Apr 2018  Sat            Thunderstorms  32  25\n",
      "5  15 Apr 2018  Sun            Thunderstorms  25  22\n",
      "6  16 Apr 2018  Mon  Scattered Thunderstorms  23  21\n",
      "7  17 Apr 2018  Tue            Mostly Cloudy  23  20\n",
      "8  18 Apr 2018  Wed            Mostly Cloudy  25  20\n"
     ]
    },
    {
     "data": {
      "text/plain": [
       "Text(0.5,1,'Biểu đồ nhiệt độ dự báo thời tiết cho Hà Nội Vietnam 9 ngày')"
      ]
     },
     "execution_count": 5,
     "metadata": {},
     "output_type": "execute_result"
    },
    {
     "data": {
      "image/png": "[encoded data removed]",
      "text/plain": [
       "<matplotlib.figure.Figure at 0x7f6128c58438>"
      ]
     },
     "metadata": {},
     "output_type": "display_data"
    }
   ],
   "source": [
    "import requests\n",
    "import json\n",
    "import urllib.parse\n",
    "import pandas as pd\n",
    "import numpy as np\n",
    "from urllib.request import urlopen\n",
    "import matplotlib.pyplot as plt\n",
    "\n",
    "\n",
    "print(\"===== DỰ BÁO THỜI TIẾT ===== \\n\")\n",
    "name = str(input('Nhập thành phố / địa điểm bạn muốn kiểm tra thời tiết : '))\n",
    "baseurl = \"https://query.yahooapis.com/v1/public/yql?\"\n",
    "yql_query = \"select * from weather.forecast where woeid in (select woeid from geo.places(1) where text=\\\"\" + str(\n",
    "    name) + \"\\\") and u=\\\"c\\\"\"\n",
    "yql_url = baseurl + urllib.parse.urlencode({'q': yql_query}) + \"&format=json\"\n",
    "result = requests.get(yql_url)\n",
    "data = result.json()\n",
    "\n",
    "d = data['query']['results']['channel']['item']['forecast']\n",
    "days = []\n",
    "dates = []\n",
    "lows = []\n",
    "highs = []\n",
    "texts = []\n",
    "\n",
    "city = data['query']['results']['channel']['location']['city']\n",
    "country = data['query']['results']['channel']['location']['country']\n",
    "region = data['query']['results']['channel']['location']['region']\n",
    "text = data['query']['results']['channel']['item']['condition']['text']\n",
    "low = data['query']['results']['channel']['item']['forecast'][0]['low']\n",
    "high = data['query']['results']['channel']['item']['forecast'][0]['high']\n",
    "lastUptate = data['query']['results']['channel']['lastBuildDate']\n",
    "\n",
    "print('\\n' + lastUptate + \" \" + \"(\" + city + \" \" + country + \" \" + region + \")\"\n",
    " + \" \" + text + \" ,Nhiệt Độ Thấp Nhất \" + low + \"*C\" + \" ,Nhiệt Độ Cao Nhất \" + high + \"*C\"'\\n')\n",
    "\n",
    "for i in range(1, len(d)):\n",
    "    day = data['query']['results']['channel']['item']['forecast'][i]['day']\n",
    "    date = data['query']['results']['channel']['item']['forecast'][i]['date']\n",
    "    low = data['query']['results']['channel']['item']['forecast'][i]['low']\n",
    "    high = data['query']['results']['channel']['item']['forecast'][i]['high']\n",
    "    text = data['query']['results']['channel']['item']['forecast'][i]['text']\n",
    "    days.append(day)\n",
    "    dates.append(date)\n",
    "    lows.append(low)\n",
    "    highs.append(high)\n",
    "    texts.append(text)\n",
    "df = pd.DataFrame({'Day': days,\n",
    "                   'Datetime': dates,\n",
    "                   'Min': lows,\n",
    "                   'Max': highs,\n",
    "                   'Description': texts})\n",
    "print(df)\n",
    "df.Max = df.Max.astype(float)\n",
    "df.Min = df.Min.astype(float)\n",
    "df.plot.bar(x='Datetime')\n",
    "plt.xlabel('Ngày')\n",
    "plt.ylabel('Nhiệt Độ ($^{\\circ}$C)')\n",
    "plt.title('Biểu đồ nhiệt độ dự báo thời tiết cho ' + city +\n",
    "          ' ' + country + ' ' + str(len(d) - 1) + ' ngày')\n"
   ]
  },
  {
   "cell_type": "code",
   "execution_count": null,
   "metadata": {},
   "outputs": [],
   "source": []
  },
  {
   "cell_type": "code",
   "execution_count": null,
   "metadata": {},
   "outputs": [],
   "source": []
  },
  {
   "cell_type": "code",
   "execution_count": null,
   "metadata": {},
   "outputs": [],
   "source": []
  },
  {
   "cell_type": "code",
   "execution_count": null,
   "metadata": {},
   "outputs": [],
   "source": []
  },
  {
   "cell_type": "code",
   "execution_count": null,
   "metadata": {},
   "outputs": [],
   "source": []
  },
  {
   "cell_type": "code",
   "execution_count": null,
   "metadata": {},
   "outputs": [],
   "source": []
  },
  {
   "cell_type": "code",
   "execution_count": null,
   "metadata": {},
   "outputs": [],
   "source": []
  }
 ],
 "metadata": {
  "kernelspec": {
   "display_name": "Python 3",
   "language": "python",
   "name": "python3"
  },
  "language_info": {
   "codemirror_mode": {
    "name": "ipython",
    "version": 3
   },
   "file_extension": ".py",
   "mimetype": "text/x-python",
   "name": "python",
   "nbconvert_exporter": "python",
   "pygments_lexer": "ipython3",
   "version": "3.5.2"
  }
 },
 "nbformat": 4,
 "nbformat_minor": 2
}
